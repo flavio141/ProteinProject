{
 "cells": [
  {
   "cell_type": "code",
   "execution_count": 1,
   "metadata": {},
   "outputs": [],
   "source": [
    "import os\n",
    "import pandas as pd"
   ]
  },
  {
   "cell_type": "code",
   "execution_count": 2,
   "metadata": {},
   "outputs": [],
   "source": [
    "data = pd.read_csv('../dataset/database.tsv', sep='\\t')"
   ]
  },
  {
   "cell_type": "code",
   "execution_count": 4,
   "metadata": {},
   "outputs": [],
   "source": [
    "data_modified = data.assign(mutation=data['mutation'].str.split(',')).explode('mutation')\n",
    "\n",
    "data_modified['identifier'] = data_modified['uniprot_id'] + '_' + data_modified['wildtype'] + '_' + \\\n",
    "                                data_modified['position'].astype(str) + '_' + data_modified['mutation']\n",
    "\n",
    "data_modified = data_modified.dropna(subset=['function'])\n",
    "file_to_keep = [file.split('.')[0] for file in os.listdir('../embedding/mut') if file.split('.')[0] in list(data_modified['identifier'])]\n",
    "\n",
    "data_modified = data_modified[data_modified['identifier'].isin(file_to_keep)].drop_duplicates(subset='identifier', keep='first')\n",
    "labels = data_modified['function']"
   ]
  },
  {
   "cell_type": "code",
   "execution_count": 11,
   "metadata": {},
   "outputs": [
    {
     "data": {
      "text/plain": [
       "-1.0     1.231524\n",
       " 0.0     7.827523\n",
       " 1.0    16.599222\n",
       "Name: function, dtype: float64"
      ]
     },
     "execution_count": 11,
     "metadata": {},
     "output_type": "execute_result"
    }
   ],
   "source": [
    "sum(labels.value_counts()) / labels.value_counts()"
   ]
  },
  {
   "cell_type": "code",
   "execution_count": null,
   "metadata": {},
   "outputs": [],
   "source": []
  },
  {
   "cell_type": "code",
   "execution_count": null,
   "metadata": {},
   "outputs": [],
   "source": []
  },
  {
   "cell_type": "code",
   "execution_count": null,
   "metadata": {},
   "outputs": [],
   "source": []
  }
 ],
 "metadata": {
  "kernelspec": {
   "display_name": "venv",
   "language": "python",
   "name": "python3"
  },
  "language_info": {
   "codemirror_mode": {
    "name": "ipython",
    "version": 3
   },
   "file_extension": ".py",
   "mimetype": "text/x-python",
   "name": "python",
   "nbconvert_exporter": "python",
   "pygments_lexer": "ipython3",
   "version": "3.11.5"
  }
 },
 "nbformat": 4,
 "nbformat_minor": 2
}
